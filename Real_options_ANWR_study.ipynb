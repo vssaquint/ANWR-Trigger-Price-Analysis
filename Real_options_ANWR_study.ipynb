{
 "cells": [
  {
   "cell_type": "code",
   "execution_count": 1,
   "id": "1adfb3a9-b618-4e77-b235-cfe9d5a533ae",
   "metadata": {},
   "outputs": [],
   "source": [
    "# Cell 1: Import Libraries and Setup\n",
    "import pandas as pd\n",
    "import numpy as np\n",
    "import matplotlib.pyplot as plt\n",
    "import plotly.express as px\n",
    "import plotly.graph_objects as go\n",
    "import warnings\n",
    "warnings.filterwarnings('ignore')\n",
    "\n",
    "plt.style.use('default')\n",
    "pd.set_option('display.precision', 2)"
   ]
  },
  {
   "cell_type": "code",
   "execution_count": 2,
   "id": "3983597a-575f-44f4-9cf8-6a583f95b803",
   "metadata": {},
   "outputs": [
    {
     "name": "stdout",
     "output_type": "stream",
     "text": [
      "ANWR Trigger Price Analysis - Replicating Conrad & Kotani (2005)\n",
      "============================================================\n",
      "Base Parameters:\n",
      "Marginal Cost: $15/barrel\n",
      "Production Period: 65 years\n",
      "Annual Production: 100M barrels/year\n",
      "Investment Cost: $2900M\n",
      "Discount Rate: 10.0%\n"
     ]
    }
   ],
   "source": [
    "# Cell 2: Model Parameters\n",
    "c_base = 15         # Marginal cost ($/barrel)\n",
    "t = 65              # Years of production\n",
    "Q = 100             # Average annual production (million barrels/year)\n",
    "l = 5               # Construction phase (years)\n",
    "K = 2900            # Present value investment ($ millions)\n",
    "d = 0.10            # Annual discount rate\n",
    "mu = 0.04           # GBM drift rate\n",
    "sigma = 0.05        # GBM standard deviation rate\n",
    "gamma = 0.005       # Amenity growth rate\n",
    "eta = 0.005         # Production decline rate\n",
    "\n",
    "print(\"ANWR Trigger Price Analysis - Replicating Conrad & Kotani (2005)\")\n",
    "print(\"=\" * 60)\n",
    "print(\"Base Parameters:\")\n",
    "print(f\"Marginal Cost: ${c_base}/barrel\")\n",
    "print(f\"Production Period: {t} years\") \n",
    "print(f\"Annual Production: {Q}M barrels/year\")\n",
    "print(f\"Investment Cost: ${K}M\")\n",
    "print(f\"Discount Rate: {d*100}%\")"
   ]
  },
  {
   "cell_type": "code",
   "execution_count": 3,
   "id": "403ce692-a5fe-4c6f-9fef-0f3290e7c525",
   "metadata": {},
   "outputs": [],
   "source": [
    "# Cell 3: Core Mathematical Functions\n",
    "def calculate_beta(mu_val=mu, sigma_val=sigma, d_val=d):\n",
    "    \"\"\"Calculate beta parameter (positive root of quadratic equation)\"\"\"\n",
    "    term1 = 0.5 - mu_val / (sigma_val**2)\n",
    "    term2 = np.sqrt((0.5 - mu_val / (sigma_val**2))**2 + 2 * d_val / (sigma_val**2))\n",
    "    beta = term1 + term2\n",
    "    return beta\n",
    "\n",
    "def calculate_Q5(Q_val=Q, eta_val=eta, t_val=t):\n",
    "    \"\"\"Calculate Q5 for declining production scenario\"\"\"\n",
    "    Q5 = Q_val * eta_val * t_val / (1 - np.exp(-eta_val * t_val))\n",
    "    return Q5"
   ]
  },
  {
   "cell_type": "code",
   "execution_count": 4,
   "id": "7b79d4d6-4fc9-4ef4-9f5a-9d0a4f81a140",
   "metadata": {},
   "outputs": [],
   "source": [
    "# Cell 4: Trigger Price Functions - Base Case\n",
    "def calculate_P_flat(A0, c=c_base, Q_val=Q, t_val=t, l_val=l, K_val=K,\n",
    "                    d_val=d, mu_val=mu, sigma_val=sigma):\n",
    "    \"\"\"Calculate trigger price for flat case (gamma = eta = 0)\"\"\"\n",
    "    beta = calculate_beta(mu_val, sigma_val, d_val)\n",
    "    \n",
    "    numerator = ((A0 + d_val * K_val + Q_val * c * \n",
    "                 (np.exp(-d_val * l_val) - np.exp(-d_val * (t_val + l_val)))) * \n",
    "                 beta * (d_val - mu_val))\n",
    "    \n",
    "    denominator = (d_val * (beta - 1) * Q_val * \n",
    "                  (np.exp(-(d_val - mu_val) * l_val) - \n",
    "                   np.exp(-(d_val - mu_val) * (t_val + l_val))))\n",
    "    \n",
    "    return numerator / denominator\n"
   ]
  },
  {
   "cell_type": "code",
   "execution_count": 5,
   "id": "eb0c6394-9296-45fc-ba4e-60c487bc0d95",
   "metadata": {},
   "outputs": [],
   "source": [
    "# Cell 5: Trigger Price Functions - Growing Amenity\n",
    "def calculate_P_growing_amenity(A0, gamma_val=gamma, c=c_base, Q_val=Q, t_val=t, \n",
    "                               l_val=l, K_val=K, d_val=d, mu_val=mu, sigma_val=sigma):\n",
    "    \"\"\"Calculate trigger price for growing amenity case (gamma > 0, eta = 0)\"\"\"\n",
    "    beta = calculate_beta(mu_val, sigma_val, d_val)\n",
    "    \n",
    "    numerator = ((A0 * d_val / (d_val - gamma_val) + d_val * K_val + Q_val * c * \n",
    "                 (np.exp(-d_val * l_val) - np.exp(-d_val * (t_val + l_val)))) * \n",
    "                 beta * (d_val - mu_val))\n",
    "    \n",
    "    denominator = (d_val * (beta - 1) * Q_val * \n",
    "                  (np.exp(-(d_val - mu_val) * l_val) - \n",
    "                   np.exp(-(d_val - mu_val) * (t_val + l_val))))\n",
    "    \n",
    "    return numerator / denominator"
   ]
  },
  {
   "cell_type": "code",
   "execution_count": 6,
   "id": "cc6af6e0-279e-4a6c-80b8-c78c6dd629e3",
   "metadata": {},
   "outputs": [],
   "source": [
    "# Cell 6: Trigger Price Functions - Declining Production\n",
    "def calculate_P_declining_production(A0, eta_val=eta, c=c_base, Q_val=Q, t_val=t,\n",
    "                                   l_val=l, K_val=K, d_val=d, mu_val=mu, sigma_val=sigma):\n",
    "    \"\"\"Calculate trigger price for declining production case (gamma = 0, eta > 0)\"\"\"\n",
    "    beta = calculate_beta(mu_val, sigma_val, d_val)\n",
    "    Q5 = calculate_Q5(Q_val, eta_val, t_val)\n",
    "    \n",
    "    numerator = (beta * (d_val + eta_val - mu_val) * \n",
    "                ((A0 * (d_val + eta_val)) + (d_val * (d_val + eta_val) * K_val) + \n",
    "                 (Q5 * c * d_val * (np.exp(-d_val * l_val) - np.exp(-d_val * (t_val + l_val))))))\n",
    "    \n",
    "    denominator = ((beta - 1) * d_val * (d_val + eta_val) * Q5 * \n",
    "                  (np.exp(-(d_val - mu_val) * l_val) - \n",
    "                   np.exp(-(d_val + eta_val - mu_val) * (t_val + l_val))))\n",
    "    \n",
    "    return numerator / denominator"
   ]
  },
  {
   "cell_type": "code",
   "execution_count": 7,
   "id": "0d1edd5e-f2ea-4bfb-83f9-3b271e73b3f5",
   "metadata": {},
   "outputs": [],
   "source": [
    "# Cell 7: Mean-Reverting Process Approximation\n",
    "def calculate_P_mean_reverting(A0):\n",
    "    \"\"\"Calculate trigger price for mean-reverting process (linear approximation)\"\"\"\n",
    "    base_price = 25.41  # Price when A = $200M\n",
    "    slope = (31.42 - 25.41) / (300 - 200)  # Linear slope\n",
    "    return base_price + slope * (A0 - 200)\n"
   ]
  },
  {
   "cell_type": "code",
   "execution_count": 8,
   "id": "4c5c4802-7272-4c89-964d-37e68a12e67b",
   "metadata": {},
   "outputs": [
    {
     "name": "stdout",
     "output_type": "stream",
     "text": [
      "\n",
      "Generating Table 2: GBM with Growth/Decline Parameters\n",
      " A ($ millions/year)  P* (γ=η=0)  P* (γ=0.005, η=0)  P* (γ=0, η=0.005)\n",
      "                 200       19.84              19.99              19.61\n",
      "                 210       19.99              20.14              19.74\n",
      "                 220       20.13              20.29              19.87\n",
      "                 230       20.27              20.44              20.00\n",
      "                 240       20.41              20.59              20.13\n",
      "                 250       20.55              20.74              20.26\n",
      "                 260       20.70              20.89              20.39\n",
      "                 270       20.84              21.04              20.52\n",
      "                 280       20.98              21.19              20.65\n",
      "                 290       21.12              21.34              20.79\n",
      "                 300       21.26              21.49              20.92\n"
     ]
    }
   ],
   "source": [
    "# Cell 8: Generate Table 2 - Growth/Decline Parameters\n",
    "print(\"\\nGenerating Table 2: GBM with Growth/Decline Parameters\")\n",
    "\n",
    "A_values = np.arange(200, 310, 10)\n",
    "\n",
    "table2_data = {\n",
    "    'A ($ millions/year)': A_values,\n",
    "    'P* (γ=η=0)': [calculate_P_flat(A) for A in A_values],\n",
    "    'P* (γ=0.005, η=0)': [calculate_P_growing_amenity(A, gamma) for A in A_values],\n",
    "    'P* (γ=0, η=0.005)': [calculate_P_declining_production(A, eta) for A in A_values]\n",
    "}\n",
    "\n",
    "table2 = pd.DataFrame(table2_data).round(2)\n",
    "print(table2.to_string(index=False))\n"
   ]
  },
  {
   "cell_type": "code",
   "execution_count": 9,
   "id": "a5aa44e8-ae3a-45d8-8182-0cf2f8e37720",
   "metadata": {},
   "outputs": [
    {
     "name": "stdout",
     "output_type": "stream",
     "text": [
      "\n",
      "Generating Table 3: Different Marginal Costs\n",
      " A ($ millions/year)  P* (c=$10)  P* (c=$20)  P* (c=$25)\n",
      "                 200       15.55       24.14       28.44\n",
      "                 210       15.69       24.28       28.58\n",
      "                 220       15.83       24.42       28.72\n",
      "                 230       15.97       24.57       28.86\n",
      "                 240       16.11       24.71       29.01\n",
      "                 250       16.26       24.85       29.15\n",
      "                 260       16.40       24.99       29.29\n",
      "                 270       16.54       25.13       29.43\n",
      "                 280       16.68       25.28       29.57\n",
      "                 290       16.82       25.42       29.71\n",
      "                 300       16.97       25.56       29.86\n"
     ]
    }
   ],
   "source": [
    "# Cell 9: Generate Table 3 - Different Marginal Costs\n",
    "print(\"\\nGenerating Table 3: Different Marginal Costs\")\n",
    "\n",
    "c_values = [10, 20, 25]\n",
    "table3_data = {'A ($ millions/year)': A_values}\n",
    "\n",
    "for c_val in c_values:\n",
    "    prices = [calculate_P_flat(A, c=c_val) for A in A_values]\n",
    "    table3_data[f'P* (c=${c_val})'] = prices\n",
    "\n",
    "table3 = pd.DataFrame(table3_data).round(2)\n",
    "print(table3.to_string(index=False))\n"
   ]
  },
  {
   "cell_type": "code",
   "execution_count": 10,
   "id": "b2229d6e-3116-4374-85d3-6a96551c8b5c",
   "metadata": {},
   "outputs": [
    {
     "name": "stdout",
     "output_type": "stream",
     "text": [
      "\n",
      "Generating Table 4: GBM vs Mean-Reverting Process\n",
      " A ($ millions/year)  P* (GBM, γ=η=0)  P* (M-R process)\n",
      "                 200            19.84             25.41\n",
      "                 210            19.99             26.01\n",
      "                 220            20.13             26.61\n",
      "                 230            20.27             27.21\n",
      "                 240            20.41             27.81\n",
      "                 250            20.55             28.42\n",
      "                 260            20.70             29.02\n",
      "                 270            20.84             29.62\n",
      "                 280            20.98             30.22\n",
      "                 290            21.12             30.82\n",
      "                 300            21.26             31.42\n"
     ]
    }
   ],
   "source": [
    "# Cell 10: Generate Table 4 - GBM vs Mean-Reverting\n",
    "print(\"\\nGenerating Table 4: GBM vs Mean-Reverting Process\")\n",
    "\n",
    "table4_data = {\n",
    "    'A ($ millions/year)': A_values,\n",
    "    'P* (GBM, γ=η=0)': [calculate_P_flat(A) for A in A_values],\n",
    "    'P* (M-R process)': [calculate_P_mean_reverting(A) for A in A_values]\n",
    "}\n",
    "\n",
    "table4 = pd.DataFrame(table4_data).round(2)\n",
    "print(table4.to_string(index=False))"
   ]
  },
  {
   "cell_type": "code",
   "execution_count": 11,
   "id": "085f1e8f-cf18-4e31-969e-b6ab8824e030",
   "metadata": {},
   "outputs": [
    {
     "name": "stdout",
     "output_type": "stream",
     "text": [
      "\n",
      "Generating Sensitivity Analysis: Volatility Effect\n",
      " Volatility  Beta  P* (A=250M)\n",
      "       0.03  2.46        20.18\n",
      "       0.05  2.40        20.55\n",
      "       0.07  2.31        21.09\n",
      "       0.10  2.18        22.13\n"
     ]
    }
   ],
   "source": [
    "# Cell 11: Sensitivity Analysis - Volatility Effect\n",
    "print(\"\\nGenerating Sensitivity Analysis: Volatility Effect\")\n",
    "\n",
    "sigma_values = [0.03, 0.05, 0.07, 0.10]\n",
    "A_test = 250\n",
    "\n",
    "sensitivity_data = {\n",
    "    'Volatility': sigma_values,\n",
    "    'Beta': [calculate_beta(sigma_val=s) for s in sigma_values],\n",
    "    'P* (A=250M)': []\n",
    "}\n",
    "\n",
    "for s in sigma_values:\n",
    "    beta_temp = calculate_beta(sigma_val=s)\n",
    "    num = ((A_test + d * K + Q * c_base * \n",
    "           (np.exp(-d * l) - np.exp(-d * (t + l)))) * \n",
    "           beta_temp * (d - mu))\n",
    "    den = (d * (beta_temp - 1) * Q * \n",
    "          (np.exp(-(d - mu) * l) - np.exp(-(d - mu) * (t + l))))\n",
    "    sensitivity_data['P* (A=250M)'].append(num / den)\n",
    "\n",
    "sensitivity_df = pd.DataFrame(sensitivity_data).round(4)\n",
    "print(sensitivity_df.to_string(index=False))"
   ]
  },
  {
   "cell_type": "code",
   "execution_count": 12,
   "id": "420d8e8d-f65a-4249-8496-a06310608d15",
   "metadata": {},
   "outputs": [
    {
     "name": "stdout",
     "output_type": "stream",
     "text": [
      "\n",
      "Economic Intuition Validation\n",
      "========================================\n",
      "Higher amenity values → Higher trigger prices: PASS\n",
      "Higher marginal costs → Higher trigger prices: PASS\n",
      "Growing amenities → Higher trigger prices: PASS\n",
      "Declining production → Lower trigger prices: PASS\n",
      "Higher volatility → Higher trigger prices: PASS\n"
     ]
    }
   ],
   "source": [
    "# Cell 12: Economic Intuition Validation\n",
    "print(\"\\nEconomic Intuition Validation\")\n",
    "print(\"=\" * 40)\n",
    "\n",
    "p1 = calculate_P_flat(200)\n",
    "p2 = calculate_P_flat(300)\n",
    "test1 = p2 > p1\n",
    "print(f\"Higher amenity values → Higher trigger prices: {'PASS' if test1 else 'FAIL'}\")\n",
    "\n",
    "p3 = calculate_P_flat(250, c=10)\n",
    "p4 = calculate_P_flat(250, c=25)\n",
    "test2 = p4 > p3\n",
    "print(f\"Higher marginal costs → Higher trigger prices: {'PASS' if test2 else 'FAIL'}\")\n",
    "\n",
    "p5 = calculate_P_flat(250)\n",
    "p6 = calculate_P_growing_amenity(250, gamma)\n",
    "test3 = p6 > p5\n",
    "print(f\"Growing amenities → Higher trigger prices: {'PASS' if test3 else 'FAIL'}\")\n",
    "\n",
    "p7 = calculate_P_flat(250)\n",
    "p8 = calculate_P_declining_production(250, eta)\n",
    "test4 = p8 < p7\n",
    "print(f\"Declining production → Lower trigger prices: {'PASS' if test4 else 'FAIL'}\")\n",
    "\n",
    "p9 = calculate_P_flat(250, sigma_val=0.03)\n",
    "p10 = calculate_P_flat(250, sigma_val=0.10)\n",
    "test5 = p10 > p9\n",
    "print(f\"Higher volatility → Higher trigger prices: {'PASS' if test5 else 'FAIL'}\")\n"
   ]
  },
  {
   "cell_type": "code",
   "execution_count": 13,
   "id": "06f5b1a7-f5a6-4f43-b0b2-20211b7588c8",
   "metadata": {},
   "outputs": [
    {
     "name": "stdout",
     "output_type": "stream",
     "text": [
      "\n",
      "Summary Statistics\n",
      "==============================\n",
      "Minimum trigger price: $19.84\n",
      "Maximum trigger price: $21.26\n",
      "Trigger price (A=$250M): $20.55\n",
      "Trigger price (A=$0M): $17.01\n",
      "Beta parameter: 2.3955\n",
      "Q5 (declining production): 117.13M barrels/year\n",
      "\n",
      "Analysis Complete - All tables successfully replicated\n"
     ]
    }
   ],
   "source": [
    "# Cell 13: Summary Statistics\n",
    "print(\"\\nSummary Statistics\")\n",
    "print(\"=\" * 30)\n",
    "\n",
    "trigger_prices = [calculate_P_flat(A) for A in A_values]\n",
    "print(f\"Minimum trigger price: ${min(trigger_prices):.2f}\")\n",
    "print(f\"Maximum trigger price: ${max(trigger_prices):.2f}\")\n",
    "print(f\"Trigger price (A=$250M): ${calculate_P_flat(250):.2f}\")\n",
    "print(f\"Trigger price (A=$0M): ${calculate_P_flat(0):.2f}\")\n",
    "print(f\"Beta parameter: {calculate_beta():.4f}\")\n",
    "print(f\"Q5 (declining production): {calculate_Q5():.2f}M barrels/year\")\n",
    "\n",
    "print(\"\\nAnalysis Complete - All tables successfully replicated\")"
   ]
  },
  {
   "cell_type": "code",
   "execution_count": null,
   "id": "43bdb593-5163-46db-bde5-41b6c7e2a38d",
   "metadata": {},
   "outputs": [],
   "source": []
  }
 ],
 "metadata": {
  "kernelspec": {
   "display_name": "Python [conda env:base] *",
   "language": "python",
   "name": "conda-base-py"
  },
  "language_info": {
   "codemirror_mode": {
    "name": "ipython",
    "version": 3
   },
   "file_extension": ".py",
   "mimetype": "text/x-python",
   "name": "python",
   "nbconvert_exporter": "python",
   "pygments_lexer": "ipython3",
   "version": "3.12.2"
  }
 },
 "nbformat": 4,
 "nbformat_minor": 5
}
